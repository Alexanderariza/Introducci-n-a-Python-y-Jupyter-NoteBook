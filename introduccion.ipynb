{
 "cells": [
  {
   "cell_type": "markdown",
   "metadata": {},
   "source": [
    "<img src='https://github.com/Alexanderariza/Analysis_CO2_level_Atm/blob/main/Img/logo_heat.png' alt='Logo UCM' align='left' width='50%'></img>\n",
    "\n",
    "# Técnicas y Aplicaciones de Teledetección: Cambio Climático-Riesgos y Desastres\n",
    "\n",
    "***\n",
    "\n",
    "## Introducción a Python y Jupyter NoteBook\n",
    "En este cuaderno vamos a ver una breve introducción a python y el entorno de Jupyter NoteBook.\n"
   ]
  },
  {
   "cell_type": "markdown",
   "metadata": {},
   "source": [
    "## ¿Qué es Jupyter Notebook?\n",
    "<img src='https://geekflare.com/wp-content/uploads/2019/11/jupyter-1.png' alt='Logo UCM' align='left' width='50%'></img>\n",
    "\n",
    "**Jupyter Notebook** es una aplicación web de código abierto que le permite crear y compartir documentos que contienen código en vivo, ecuaciones, visualizaciones y texto narrativo. Sus usos incluyen limpieza y transformación de datos, simulación numérica, modelado estadístico, visualización de datos, aprendizaje automático y mucho más.\n",
    "\n",
    "La mayoría de las veces, Jupyter Notebook se utiliza en un entorno **Python**. Tienen salidas muy interactivas y se pueden compartir fácilmente, como un cuaderno normal.\n",
    "\n",
    "El sistema Jupyter admite más de **100 lenguajes de programación** (llamados \"kernels\" en el ecosistema de Jupyter), incluidos Python, Java, R, Julia, Matlab, Octave, Scheme, Processing, Scala y muchos más. Puede compartir el código escrito en Notebook con otros.\n",
    "\n",
    "A continuación veremos algunos idiomas que se pueden escribir en el cuaderno de Jupyter."
   ]
  },
  {
   "cell_type": "markdown",
   "metadata": {},
   "source": [
    "## ¿Que es Python?\n",
    "<img src='https://www.python.org/static/img/python-logo.png' alt='Logo UCM' align='left' width='50%'></img>\n",
    "\n",
    "**Python** es un lenguaje de programación que permite comunicarte con tu computadora y ejecutar ordenes, pero para hacer esto necesitas la ayuda de un software o una aplicación específica. En el mercado existen muchas aplicaciones que cumplen con este propósito, una de ellas es [**Spyder**](https://www.spyder-ide.org/), otra opción es la de utilizar la aplicación de [**Jupyter Notebook**](https://jupyter.org/), Ideal para principiantes en programación para el desarrollo de proyectos de EO y Machine Learning. [**Python**]( https://www.python.org/). <br>"
   ]
  },
  {
   "cell_type": "markdown",
   "metadata": {},
   "source": [
    "## ACERCA DE PYTHON\n",
    "Python es un lenguaje de programación bastante extendido, tiene una sintaxis bastante limpia, la cual favorece mucho la creación de código legible. Fue creado por **Guido van Rossum** a principio de los 90, es unenguaje orientado a objetos y también es multiplataforma, es decir que un programa desarrollado con Python, puede ser ejecutado en laptops, desktops o servidores que corran con diferentes sistemas operativos como OS, Microsoft Windows o GNU/Linux.\n"
   ]
  },
  {
   "cell_type": "markdown",
   "metadata": {},
   "source": [
    "## COMO SE PROGRAMA EN PYTHON\n",
    "Una simple introducción a **Python**, comensaría por abrir nuestro editor de texto favorito y crearemos nuestro **primer programa**, el cual sera un **«hola mundo«**, a partir de una serie de sensimples comenados.<br>\n",
    "<h3>NOTA:</h3> El tutorial no asume conocimiento de Python, pero tampoco explica el lenguaje en detalle; se hace énfasis en cómo manipular matrices para procesar imágenes."
   ]
  },
  {
   "cell_type": "markdown",
   "metadata": {},
   "source": [
    "### Uso de Cuadernos de Jupyter\n",
    "Los cuadernos tienen dos tipos de celdas, de código y de texto (como esta). La celda que estás leyendo es una celda de texto escrita con Markdown, un lenguaje de marcado parecido al que utiliza HTML.\n",
    "\n",
    "Las celdas de código son ejecutables, es decir, se pueden correr individualmente (con ctrl+enter o desde el menu Cell -> Run Cells)"
   ]
  },
  {
   "cell_type": "markdown",
   "metadata": {},
   "source": [
    "\n",
    "### 1. Escribimos lo siguiente en nuestro editor de texto:\n",
    "mediante la función print imprimiremos por pantalla la famosa frase: «Hola Mundo»"
   ]
  },
  {
   "cell_type": "code",
   "execution_count": null,
   "metadata": {},
   "outputs": [],
   "source": [
    "#Este es un comentario porque empieza con el signo numeral (#)\n",
    "\n",
    "#Esta es una celda de tipo código. \n",
    "\n",
    "#Se ejecuta dando clip en **Run** (parte superior) o con ctrl+enter. \n",
    "\n",
    "#La función print puede imprimir varias cosas\n",
    "\n",
    "print(\"Hola Mundo\") #impresión de un string (o Cadena de caracteres)\n",
    "print(4) # impresión de un número\n",
    "\n",
    "#Intentá imprimir el string \"TU NOMBRE\":\n",
    "\n",
    "print(\"PON AQUÍ TU NOMBRE\");"
   ]
  },
  {
   "cell_type": "markdown",
   "metadata": {},
   "source": [
    "### 2.  \"Cadenas y listas\"\n",
    "Las cadenas son un tipo especial de clase de Python. Como objetos, en una clase, puede llamar a métodos en objetos de cadena usando la notación .methodName (). La clase de cadena está disponible de forma predeterminada en Python, por lo que no necesita una declaración de importación para usar la interfaz de objeto para cadenas."
   ]
  },
  {
   "cell_type": "code",
   "execution_count": null,
   "metadata": {},
   "outputs": [],
   "source": [
    "# manipulado en un programa\n",
    "\n",
    "variable = 'Hola Mundo'\n",
    "print(firstVariable)\n",
    "\n",
    "# Explore los distintos métodos de cadena\n",
    "\n",
    "print(variable.lower());\n",
    "print(variable.upper())\n",
    "print(variable.title())"
   ]
  },
  {
   "cell_type": "markdown",
   "metadata": {},
   "source": [
    "### 2. Interacción \"Define un programa!!!\"\n",
    "Avancemos un poco más, creamos un programa \"hola mundo\" que incluya la interacción con el usuario a modo de solicitar una entrada para devolver un saludo personalizado. Ingresa el siguiente texto en la nueva ventana del editor de archivos. Este es el código fuente del programa. Contiene las instrucciones que Python 3 seguirá cuando el programa se ejecute. (Cuidado: no corre sobre Python 2)."
   ]
  },
  {
   "cell_type": "code",
   "execution_count": null,
   "metadata": {},
   "outputs": [],
   "source": [
    "# Este programa saluda y pregunta por tu nombre.\n",
    "\n",
    "print('¡Hola mundo!')\n",
    "\n",
    "print('¿Cómo te llamas?')\n",
    "\n",
    "miNombre = input()\n",
    "\n",
    "print('Es un placer conocerte, ' + miNombre.upper() + ' :)')"
   ]
  },
  {
   "cell_type": "markdown",
   "metadata": {},
   "source": [
    "#### La función input()\n",
    "La línea 4 es una sentencia de asignación con una variable (miNombre) y una llamada a una función (input()). Cuando input() es llamada, el programa espera a que el usuario ingrese texto. La cadena de texto que el usuario ingresa se convierte en el valor al que se evalúa la llamada a la función. Las llamadas a funciones pueden usarse en expresiones, en cualquier lugar en que pueda usarse un valor.\n",
    "\n",
    "El valor al cual se evalúa la llamada a la función es llamado valor de retorno. (De hecho, “el valor devuelto por la llamada a una función” significa lo mismo que “el valor al que se evalúa la llamada a la función”.) En este caso, el valor devuelto por la función input() es la cadena que el usuario ha escrito (su nombre). Si el usuario ha ingresado “Alex”, la llamada a la función input() se evalúa a la cadena 'Alex'. La evaluación se ve así:\n",
    "\n",
    "**Es un placer conocerte, ALEX :)**"
   ]
  },
  {
   "cell_type": "markdown",
   "metadata": {},
   "source": [
    "**Nota:** Recuerda, la computadora hace exactamente lo que la programas para hacer. Las computadoras son tontas y sólo siguen tus instrucciones al pie de la letra. A la computadora no le importa si escribes tu nombre, el nombre de otra persona, o sólo algo absurdo. Escribe lo que quieras. La computadora lo tratará de la misma forma:"
   ]
  },
  {
   "cell_type": "markdown",
   "metadata": {},
   "source": [
    "### 3. Funciones básicas\n",
    "Las variables en python no necesitan ser declaradas, simplemente se definen al ser utilizadas por primera vez. Además, (si bien no es recomendable) pueden cambiar de tipo volviendo a definir."
   ]
  },
  {
   "cell_type": "code",
   "execution_count": null,
   "metadata": {},
   "outputs": [],
   "source": [
    "x=\"Hola Mundo\"\n",
    "print(x)\n",
    "\n",
    "x=3\n",
    "print(x)\n",
    "\n",
    "y=x+8.2\n",
    "print(y)"
   ]
  },
  {
   "cell_type": "markdown",
   "metadata": {},
   "source": [
    "### 4 Tipos de datos en Python\n",
    "Python tiene los mismos datos básicos que otros lenguajes: enteros, flotantes, strings y booleanos. Además, las listas son un tipo predefinido en el lenguaje."
   ]
  },
  {
   "cell_type": "markdown",
   "metadata": {},
   "source": [
    "<h4>a) Numeros</h4>\n",
    "Python tiene soporte para números enteros y de punto flotante."
   ]
  },
  {
   "cell_type": "code",
   "execution_count": null,
   "metadata": {},
   "outputs": [],
   "source": [
    "### Enteros ###\n",
    "\n",
    "x = 3 \n",
    "\n",
    "print(\"- Tipo de x:\")\n",
    "print(type(x)) # Imprime el tipo (o `clase`) de x\n",
    "print(\"- Valor de x:\")\n",
    "print(x)       # Imprimir un valor\n",
    "print(\"- x+1:\")\n",
    "print(x + 1)   # Suma: imprime \"4\"\n",
    "print(\"- x-1:\")\n",
    "print(x - 1)   # Resta; imprime \"2\"\n",
    "print(\"- x*2:\")\n",
    "print(x * 2)   # Multiplicación; imprime \"6\"\n",
    "print(\"- x^2:\")\n",
    "print(x ** 2)  # Exponenciación; imprime \"9\"\n",
    "# Modificación de x\n",
    "x += 1 \n",
    "print(\"- x modificado:\")\n",
    "print(x)  # Imprime \"4\"\n",
    "\n",
    "x *= 2\n",
    "print(\"- x modificado:\")\n",
    "print(x)  # Imprime \"8\"\n",
    "\n",
    "print(\"- Varias cosas en una línea:\")\n",
    "print(1,2,x,5*2) # imprime varias cosas a la vez"
   ]
  },
  {
   "cell_type": "code",
   "execution_count": null,
   "metadata": {},
   "outputs": [],
   "source": [
    "### Flotantes ###\n",
    "\n",
    "y = 2.5 \n",
    "print(\"- Tipo de y:\")\n",
    "print(type(y)) # Imprime el tipo de y\n",
    "print(\"- Varios valores en punto flotante:\")\n",
    "print(y, y + 1, y * 2.5, y ** 2) # Imprime varios números en punto flotante"
   ]
  },
  {
   "cell_type": "markdown",
   "metadata": {},
   "source": [
    "<h4>b) Booleanos</h4>\n",
    "Python implementa todos los operadores usuales de la lógica booleana, usando palabras en inglés (and, or, not) en lugar de símbolos (||, &&, !, etc)\n",
    "También tiene los típicos operadores de comparación: <,>,>=,<=,==,!="
   ]
  },
  {
   "cell_type": "code",
   "execution_count": null,
   "metadata": {},
   "outputs": [],
   "source": [
    "### Booleanos ###\n",
    "\n",
    "v1 = True #el valor verdadero se escribe True \n",
    "v2 = False #el valor verdadero se escribe False\n",
    "\n",
    "print(\"- Valores de v1 y v2:\")\n",
    "print(v1,v2)\n",
    "\n",
    "print(\"- Tipo de v1:\")\n",
    "print(type(v1)) # Imprime la clase de un valor booleano ('bool')\n",
    "\n",
    "print(\"- v1 and v2:\")\n",
    "print(v1 and v2) # y lógico; imprime False\n",
    "print(v1 or v2)  # o lógico; imprime True\n",
    "print(not v1)   # negación lógica, imprime False\n",
    "\n",
    "print(3 == 5)  # Imprime False ya que son distintos\n",
    "print(3 != 5)  # Imprime True ya que son distintos\n",
    "print(3 < 5)  # Imprime True ya que 3 es menor que 5"
   ]
  },
  {
   "cell_type": "markdown",
   "metadata": {},
   "source": [
    "<h4>c) Listas</h4>\n",
    "Python tiene soporte para listas como un tipo predefinido del lenguaje. Para crear una lista basta con poner cosas entre [] (corchetes) y separarlas con , (comas)."
   ]
  },
  {
   "cell_type": "code",
   "execution_count": null,
   "metadata": {},
   "outputs": [],
   "source": [
    "print(\"- Lista con 4 números:\")\n",
    "a=[57,45,7,13] # una lista con cuatro números\n",
    "print(a)\n",
    "\n",
    "print(\"- Lista con 3 strings:\")\n",
    "b=[\"hola\",\"chau\",\"buen día\"] # una lista con tres strings\n",
    "print(b)\n",
    "\n",
    "# la función `len` me da la longitud de la lista\n",
    "print(\"- Longitud de la lista:\")\n",
    "n=len(a)\n",
    "print(n)"
   ]
  },
  {
   "cell_type": "code",
   "execution_count": null,
   "metadata": {},
   "outputs": [],
   "source": [
    "#Para acceder a sus elementos, se utiliza el []\n",
    "# Los índices comienzan en 0\n",
    "print(\"- Elemento con índice 0 de la lista:\")\n",
    "print(b[0])\n",
    "print(\"- Elemento con índice 1 de la lista:\")\n",
    "print(b[1])\n",
    "print(\"- Elemento con índice 2 de la lista:\")\n",
    "print(b[2])"
   ]
  },
  {
   "cell_type": "code",
   "execution_count": null,
   "metadata": {},
   "outputs": [],
   "source": [
    "# para crear una lista vacía, (sin elementos), simplemente ponemos []\n",
    "vacia=[]\n",
    "print(\"Lista vacía:\")\n",
    "print(vacia)\n",
    "\n",
    "# También podés crear una sub-lista o slice especificando un rango de indices\n",
    "print(\"- Elementos del índice 0 al 1 (2-1):\")\n",
    "print(a[0:2])\n",
    "print(\"- Elementos del índice 1 al 3 (4-1):\")\n",
    "print(a[1:4])\n",
    "#Si ponés nada antes del : se asume que pusiste 0\n",
    "print(\"- Elementos desde el comienzo al indice 1 (2-1) :\")\n",
    "print(a[:2])\n",
    "#Si no ponés nada después del : se asume que tomás todos hasta el final\n",
    "print(\"- Elementos desde el indice 1 hasta el final:\")\n",
    "print(a[1:])\n",
    "\n",
    "#Si no pones nada ni antes ni después es como tomar todo\n",
    "print(\"- Todos los elementos:\")\n",
    "print(a[:])\n",
    "\n",
    "\n",
    "#Si el fin es igual al comienzo, es un rango vacío, por ende se obtiene una lista vacía\n",
    "print(\"- Rango vacío -> lista vacía:\")\n",
    "print(a[2:2])"
   ]
  },
  {
   "cell_type": "markdown",
   "metadata": {},
   "source": [
    "<h4>d) Una lista como objeto</h4>\n",
    "Python permite definir clases y crear objetos de esas clases, pero esos temas están fuera de este tutorial. No obstante, una lista es un objeto, y tiene varios métodos. Entre ellos está el método append, que permite agregar un elemento a la lista. Los métodos se invocan de la siguiente forma objeto.metodo(parametro1,parametro2,...)."
   ]
  },
  {
   "cell_type": "code",
   "execution_count": null,
   "metadata": {},
   "outputs": [],
   "source": [
    "#por último, le podemos agregar elementos a una lista con el método `append`\n",
    "print(\"- Una lista con 3 strings:\")\n",
    "a=['una','lista','de']\n",
    "print(a)\n",
    "\n",
    "print(\"- La misma lista luego de agregarle un string más:\")\n",
    "a.append('strings')\n",
    "print(a)"
   ]
  },
  {
   "cell_type": "markdown",
   "metadata": {},
   "source": [
    "<h4>e) Tuplas</h4>\n",
    "Las tuplas son como las listas, pero no se pueden modificar. Son como unas listas de sólo lectura. Se crean con () (paréntesis) en lugar de [] (corchetes)."
   ]
  },
  {
   "cell_type": "code",
   "execution_count": null,
   "metadata": {},
   "outputs": [],
   "source": [
    "#Podemos crear una tupla con valores entre () separados por ,\n",
    "a=(1,2,57,4)\n",
    "print(\"- Una tupla de cuatro elementos:\")\n",
    "print(a)\n",
    "print(\"- El elemento con índice 2:\")\n",
    "print(a[2])\n",
    "print(\"- Los elementos entre los índices 0 y 2:\")\n",
    "print(a[0:2])\n",
    "\n",
    "# la siguiente línea genera un error de ejecución\n",
    "#a.append(28)"
   ]
  },
  {
   "cell_type": "markdown",
   "metadata": {},
   "source": [
    "<h4>f) Estructuras de control y condicionales</h4>\n",
    "\n",
    "En Python no hay llaves ({}) ni begin...end para marcar el comienzo y fin de un bloque, sino que eso se logra con la indentación. La indentación por defecto son 4 espacios en blanco.\n",
    "\n",
    "Entonces va a ser necesario indentar correctamente para utilizar sentencias if, for o para definir funciones.\n",
    "\n",
    "if\n",
    "El if es como el de otros lenguajes, pero no pide paréntesis y termina con :. Su sintaxis es:\n",
    "\n",
    "if condicion :\n",
    "    cuerpo del if (indentado con 4 espacios)\n",
    "else:\n",
    "    cuerpo del else (indentado con 4 espacios)"
   ]
  },
  {
   "cell_type": "code",
   "execution_count": null,
   "metadata": {},
   "outputs": [],
   "source": [
    "edad = 21\n",
    "\n",
    "print(\"La persona es\")\n",
    "if edad < 18: # el if termina con : para indicar donde acaba la condición\n",
    "    # el print va indentado con 4 espacios para indicar que está dentro del\n",
    "    # cuerpo del if\n",
    "    print(\"Menor\") \n",
    "else:\n",
    "    #Lo mismo con este print\n",
    "    print(\"Mayor\")\n",
    "    \n",
    "print(\"De edad\")\n",
    "    "
   ]
  },
  {
   "cell_type": "markdown",
   "metadata": {},
   "source": [
    "### Ejercicio\n",
    "i) Pasar a escala de grises el color codificado en los elementos de la lista `pixel`"
   ]
  },
  {
   "cell_type": "code",
   "execution_count": null,
   "metadata": {},
   "outputs": [],
   "source": [
    "# paar ello definimos la lista pixel\n",
    "\n",
    "pixel= [0.6,0.3,0.4] # intensidades de cada canal. \n",
    "\n",
    "#El elemento 0 es el R, el 1 el G y el 2 el B\n",
    "# la intensidad en escala de grises es el promedio de la intensidad de cada canal R, G y B\n",
    "intensidad=0 # IMPLEMENTAR\n",
    "\n",
    "print(\"La intensidad es:\")\n",
    "print(intensidad)\n"
   ]
  },
  {
   "cell_type": "markdown",
   "metadata": {},
   "source": [
    "ii)  Pasar a blanco y negro el valor de intensidad codificado en la variable intensidad"
   ]
  },
  {
   "cell_type": "code",
   "execution_count": null,
   "metadata": {},
   "outputs": [],
   "source": [
    "# podemos considerar que un pixel se convierte en blanco si su intensidad en escala de grises es mayor a 0.5\n",
    "# y negro de lo contrario\n",
    "bw = 0 # IMPLEMENTAR\n",
    "\n",
    "print(\"En blanco y negro el pixel sería: (0 -> negro, 1 -> blanco)\")\n",
    "print(bw)"
   ]
  },
  {
   "cell_type": "markdown",
   "metadata": {},
   "source": [
    "### For\n",
    "Los \"for\" son parecidos a los \"if\", pero tienen la sintaxis for variable in lista:. En este caso, variable es la variable que va a ir cambiando, y lista es una lista de python (o un iterable que es parecido)"
   ]
  },
  {
   "cell_type": "code",
   "execution_count": 23,
   "metadata": {},
   "outputs": [
    {
     "name": "stdout",
     "output_type": "stream",
     "text": [
      "- Impresion de los elementos de la lista:\n",
      "img\n",
      "python\n",
      "numpy\n",
      "- La suma de los números es:\n",
      "42\n"
     ]
    }
   ],
   "source": [
    "print(\"- Impresion de los elementos de la lista:\")\n",
    "\n",
    "# Imprimir los strings de mi_lista por separado\n",
    "mi_lista=[\"img\",\"python\",\"numpy\"]\n",
    "for s in mi_lista:\n",
    "    print(s)# este print va con indentación\n",
    "    \n",
    "#calcular la suma de los números e imprimirla\n",
    "suma=0\n",
    "mis_numeros=[5,8,17,12]\n",
    "for numero in mis_numeros:\n",
    "    suma=suma+numero\n",
    "print(\"- La suma de los números es:\")\n",
    "print(suma)"
   ]
  },
  {
   "cell_type": "markdown",
   "metadata": {},
   "source": [
    "**Nota:** Cuando no tenemos una lista y queremos hacer un for \"común\" y que la variable que cambia sea un número que va incrementándose, podemos utilizar la función range."
   ]
  },
  {
   "cell_type": "code",
   "execution_count": null,
   "metadata": {},
   "outputs": [],
   "source": [
    "#un for de 0 a 3, para imprimir esos valores\n",
    "print(\"Un for de 0 a 3\")\n",
    "for i in range(4):\n",
    "    print(i)\n",
    "    \n",
    "#NOTA: En Python los índices comienzan en 0, y por eso los rangos también.\n",
    "    \n",
    "\n",
    "#También se puede comenzar el rango en otro valor en lugar de 0\n",
    "print(\"- Un for de 2 a 5:\")\n",
    "for j in range(2,6):\n",
    "    print(j)"
   ]
  },
  {
   "cell_type": "markdown",
   "metadata": {},
   "source": [
    "### Funciones: \n",
    "Las funciones se definen con la palabra clave def y tienen la sintaxis def nombre_funcion(parametros):. Para devolver un valor utilizamos la palabra clave return."
   ]
  },
  {
   "cell_type": "code",
   "execution_count": 29,
   "metadata": {},
   "outputs": [
    {
     "name": "stdout",
     "output_type": "stream",
     "text": [
      "2+5=\n",
      "7\n",
      "los elementos de la lista suman:\n",
      "180\n"
     ]
    }
   ],
   "source": [
    "#esta funcion recibe dos números y devuelve su suma\n",
    "\n",
    "def sumar(a,b):\n",
    "    return a+b\n",
    "\n",
    "\n",
    "c=sumar(2,5)\n",
    "print(\"2+5=\")\n",
    "print(c)\n",
    "\n",
    "\n",
    "#esta funcion recibe una lista y devuelve la suma de sus elementos\n",
    "def sumar_todos(lista):\n",
    "    suma=0\n",
    "    for v in lista:\n",
    "        suma+=v\n",
    "    return suma\n",
    "\n",
    "mi_lista=[54,12,99,15]\n",
    "print(\"los elementos de la lista suman:\")\n",
    "print(sumar_todos(mi_lista))"
   ]
  },
  {
   "cell_type": "markdown",
   "metadata": {},
   "source": [
    "<h2>Visualización de datos</h2>\n",
    "Con el uso de bibliotecas de Python como matplotlib, puede ejecutar y mostrar visualizaciones de datos directamente en su navegador.\n",
    "\n",
    "Intentemos hacer una visualización muy básica usando matplotlib, para ello importamos la biblioteca:\n"
   ]
  },
  {
   "cell_type": "code",
   "execution_count": 42,
   "metadata": {},
   "outputs": [],
   "source": [
    "from matplotlib import pyplot as plt\n",
    "%matplotlib inline"
   ]
  },
  {
   "cell_type": "markdown",
   "metadata": {},
   "source": [
    "A continuación, creamos dos listas de valores para x, y.\n",
    "Y con la función  .plot graficamos:"
   ]
  },
  {
   "cell_type": "code",
   "execution_count": 43,
   "metadata": {},
   "outputs": [
    {
     "data": {
      "text/plain": [
       "[<matplotlib.lines.Line2D at 0x189924cbf88>]"
      ]
     },
     "execution_count": 43,
     "metadata": {},
     "output_type": "execute_result"
    },
    {
     "data": {
      "image/png": "[encoded data removed]",
      "text/plain": [
       "<Figure size 432x288 with 1 Axes>"
      ]
     },
     "metadata": {
      "needs_background": "light"
     },
     "output_type": "display_data"
    }
   ],
   "source": [
    "x = [1, 2, 3, 4, 5, 6, 7, 8, 9]\n",
    "y = [11, 12, 13, 14, 15, 16, 17, 18, 19]\n",
    "plt.plot(x, y)"
   ]
  },
  {
   "cell_type": "markdown",
   "metadata": {},
   "source": [
    "**Gráficas en 3D**\n",
    "Podríamos hacer visualizaciones en 3D. Para ello, necesitamos primero importar la biblioteca de visualización 3D:"
   ]
  },
  {
   "cell_type": "code",
   "execution_count": 44,
   "metadata": {},
   "outputs": [],
   "source": [
    "from mpl_toolkits import mplot3d\n",
    "import numpy as np"
   ]
  },
  {
   "cell_type": "markdown",
   "metadata": {},
   "source": [
    "A continuación hacemosuna proyección de los planos en 3D:"
   ]
  },
  {
   "cell_type": "code",
   "execution_count": 45,
   "metadata": {},
   "outputs": [
    {
     "data": {
      "image/png": "[encoded data removed]",
      "text/plain": [
       "<Figure size 432x288 with 1 Axes>"
      ]
     },
     "metadata": {
      "needs_background": "light"
     },
     "output_type": "display_data"
    }
   ],
   "source": [
    "fig = plt.figure()\n",
    "ax = plt.axes(projection='3d')"
   ]
  },
  {
   "cell_type": "markdown",
   "metadata": {},
   "source": [
    "Incluyamos una función trigonométrica tridimencional como **Z = seno raiz cuadrada de X al cuadrado + Y al cuadrado:**"
   ]
  },
  {
   "cell_type": "code",
   "execution_count": 48,
   "metadata": {},
   "outputs": [
    {
     "data": {
      "image/png": "[encoded data removed]",
      "text/plain": [
       "<Figure size 432x288 with 1 Axes>"
      ]
     },
     "metadata": {
      "needs_background": "light"
     },
     "output_type": "display_data"
    }
   ],
   "source": [
    "def f(x, y):\n",
    "    return np.sin(np.sqrt(x ** 2 + y ** 2))\n",
    "\n",
    "\n",
    "x = np.linspace(-6, 6, 30)\n",
    "y = np.linspace(-6, 6, 30)\n",
    "X, Y = np.meshgrid(x, y)\n",
    "Z = f(X, Y)\n",
    "\n",
    "\n",
    "ax = plt.axes(projection='3d')\n",
    "ax.plot_surface(X, Y, Z, rstride=1, cstride=1,\n",
    "                cmap='viridis', edgecolor='none')\n",
    "ax.set_title('Superficie');"
   ]
  },
  {
   "cell_type": "markdown",
   "metadata": {},
   "source": [
    "<h2>Referencias</h2>\n",
    "Este tutorial corto intenta darte los elementos mínimos de python para poder trabajar con imágenes. Si querés aprender más, podés consultar:<br>  \n",
    "https://www.stavros.io/tutorials/python/<br>  \n",
    "https://argentinaenpython.com/quiero-aprender-python/aprenda-a-pensar-como-un-programador-con-python.pdf"
   ]
  },
  {
   "cell_type": "code",
   "execution_count": null,
   "metadata": {},
   "outputs": [],
   "source": []
  }
 ],
 "metadata": {
  "kernelspec": {
   "display_name": "Python 3",
   "language": "python",
   "name": "python3"
  },
  "language_info": {
   "codemirror_mode": {
    "name": "ipython",
    "version": 3
   },
   "file_extension": ".py",
   "mimetype": "text/x-python",
   "name": "python",
   "nbconvert_exporter": "python",
   "pygments_lexer": "ipython3",
   "version": "3.7.6"
  }
 },
 "nbformat": 4,
 "nbformat_minor": 4
}
